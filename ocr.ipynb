{
 "cells": [
  {
   "cell_type": "markdown",
   "metadata": {},
   "source": [
    "# Ekstraksi dan Pengolahan Data Kepemilikan Tanah"
   ]
  },
  {
   "cell_type": "markdown",
   "metadata": {},
   "source": [
    "## 1. Menyiapkan coding environment, termasuk menginstall dan/atau memperbarui library"
   ]
  },
  {
   "cell_type": "code",
   "execution_count": 8,
   "metadata": {},
   "outputs": [
    {
     "name": "stdout",
     "output_type": "stream",
     "text": [
      "Requirement already satisfied: pandas in c:\\users\\emirp\\appdata\\local\\programs\\python\\python312\\lib\\site-packages (2.2.1)\n",
      "Requirement already satisfied: numpy<2,>=1.26.0 in c:\\users\\emirp\\appdata\\local\\programs\\python\\python312\\lib\\site-packages (from pandas) (1.26.4)\n",
      "Requirement already satisfied: python-dateutil>=2.8.2 in c:\\users\\emirp\\appdata\\local\\programs\\python\\python312\\lib\\site-packages (from pandas) (2.8.2)\n",
      "Requirement already satisfied: pytz>=2020.1 in c:\\users\\emirp\\appdata\\local\\programs\\python\\python312\\lib\\site-packages (from pandas) (2023.3.post1)\n",
      "Requirement already satisfied: tzdata>=2022.7 in c:\\users\\emirp\\appdata\\local\\programs\\python\\python312\\lib\\site-packages (from pandas) (2023.3)\n",
      "Requirement already satisfied: six>=1.5 in c:\\users\\emirp\\appdata\\local\\programs\\python\\python312\\lib\\site-packages (from python-dateutil>=2.8.2->pandas) (1.16.0)\n",
      "Requirement already satisfied: pytesseract in c:\\users\\emirp\\appdata\\local\\programs\\python\\python312\\lib\\site-packages (0.3.13)\n",
      "Requirement already satisfied: packaging>=21.3 in c:\\users\\emirp\\appdata\\local\\programs\\python\\python312\\lib\\site-packages (from pytesseract) (23.2)\n",
      "Requirement already satisfied: Pillow>=8.0.0 in c:\\users\\emirp\\appdata\\local\\programs\\python\\python312\\lib\\site-packages (from pytesseract) (10.1.0)\n",
      "Requirement already satisfied: pdf2image in c:\\users\\emirp\\appdata\\local\\programs\\python\\python312\\lib\\site-packages (1.17.0)\n",
      "Requirement already satisfied: pillow in c:\\users\\emirp\\appdata\\local\\programs\\python\\python312\\lib\\site-packages (from pdf2image) (10.1.0)\n",
      "Requirement already satisfied: pillow in c:\\users\\emirp\\appdata\\local\\programs\\python\\python312\\lib\\site-packages (10.1.0)\n",
      "Requirement already satisfied: numpy in c:\\users\\emirp\\appdata\\local\\programs\\python\\python312\\lib\\site-packages (1.26.4)\n"
     ]
    }
   ],
   "source": [
    "# Menginstall library-library\n",
    "!pip install pandas\n",
    "!pip install pytesseract\n",
    "!pip install pdf2image\n",
    "!pip install pillow\n",
    "!pip install numpy\n",
    "\n",
    "# Mengimport library-library untuk digunakan\n",
    "import cv2\n",
    "import numpy as np\n",
    "import os\n",
    "import pandas as pd\n",
    "import pytesseract\n",
    "from pdf2image import convert_from_path\n",
    "from PIL import Image"
   ]
  },
  {
   "cell_type": "code",
   "execution_count": 9,
   "metadata": {},
   "outputs": [],
   "source": [
    "# Loading the preprocessed template CSV file\n",
    "template = pd.read_csv('DATA C-DESA NOBOREJO preprocessed.csv')"
   ]
  },
  {
   "cell_type": "markdown",
   "metadata": {},
   "source": [
    "#### !!! TESTING \"berkas 500-520 EXAMPLE 2.pdf !!!"
   ]
  },
  {
   "cell_type": "markdown",
   "metadata": {},
   "source": [
    "##### PDF to PNG conversion"
   ]
  },
  {
   "cell_type": "code",
   "execution_count": 10,
   "metadata": {},
   "outputs": [],
   "source": [
    "# Initialize a new empty dataframe with the same columns as the template\n",
    "df = pd.DataFrame(columns=template.columns)\n",
    "df.head()\n",
    "\n",
    "# Save CSV to the output directory\n",
    "output_dir = 'Berkas Files/images of berkas 500-520 EXAMPLE 2'\n",
    "output_file = 'output.csv'\n",
    "df.to_csv(os.path.join(output_dir, output_file), index=False)"
   ]
  },
  {
   "cell_type": "code",
   "execution_count": 11,
   "metadata": {},
   "outputs": [
    {
     "name": "stdout",
     "output_type": "stream",
     "text": [
      "Images saved at:\n",
      "Berkas Files/images of berkas 500-520 EXAMPLE 2\\halaman_1.png\n",
      "Berkas Files/images of berkas 500-520 EXAMPLE 2\\halaman_2.png\n",
      "Berkas Files/images of berkas 500-520 EXAMPLE 2\\halaman_3.png\n",
      "Berkas Files/images of berkas 500-520 EXAMPLE 2\\halaman_4.png\n",
      "Berkas Files/images of berkas 500-520 EXAMPLE 2\\halaman_5.png\n",
      "Berkas Files/images of berkas 500-520 EXAMPLE 2\\halaman_6.png\n",
      "Berkas Files/images of berkas 500-520 EXAMPLE 2\\halaman_7.png\n",
      "Berkas Files/images of berkas 500-520 EXAMPLE 2\\halaman_8.png\n",
      "Berkas Files/images of berkas 500-520 EXAMPLE 2\\halaman_9.png\n",
      "Berkas Files/images of berkas 500-520 EXAMPLE 2\\halaman_10.png\n",
      "Berkas Files/images of berkas 500-520 EXAMPLE 2\\halaman_11.png\n",
      "Berkas Files/images of berkas 500-520 EXAMPLE 2\\halaman_12.png\n",
      "Berkas Files/images of berkas 500-520 EXAMPLE 2\\halaman_13.png\n",
      "Berkas Files/images of berkas 500-520 EXAMPLE 2\\halaman_14.png\n",
      "Berkas Files/images of berkas 500-520 EXAMPLE 2\\halaman_15.png\n",
      "Berkas Files/images of berkas 500-520 EXAMPLE 2\\halaman_16.png\n",
      "Berkas Files/images of berkas 500-520 EXAMPLE 2\\halaman_17.png\n",
      "Berkas Files/images of berkas 500-520 EXAMPLE 2\\halaman_18.png\n",
      "Berkas Files/images of berkas 500-520 EXAMPLE 2\\halaman_19.png\n",
      "Berkas Files/images of berkas 500-520 EXAMPLE 2\\halaman_20.png\n"
     ]
    }
   ],
   "source": [
    "# Create subdirectory to hold images inside the Berkas Files subdirectory\n",
    "output_folder = 'Berkas Files/images of berkas 500-520 EXAMPLE 2'\n",
    "if not os.path.exists(output_folder):\n",
    "    os.makedirs(output_folder)\n",
    "\n",
    "# Convert PDF to images\n",
    "pdf_path = 'Berkas Files/berkas 500-520 EXAMPLE 2.pdf'\n",
    "images = convert_from_path(pdf_path)\n",
    "\n",
    "# Save each image to the output folder\n",
    "for i, image in enumerate(images):\n",
    "    image_path = os.path.join(output_folder, f'halaman_{i+1}.png')\n",
    "    image.save(image_path, 'PNG')\n",
    "\n",
    "# Display the paths of the saved images\n",
    "image_paths = [os.path.join(output_folder, f'halaman_{i+1}.png') for i in range(len(images))]\n",
    "print(\"Images saved at:\")\n",
    "for path in image_paths:\n",
    "    print(path)"
   ]
  },
  {
   "cell_type": "markdown",
   "metadata": {},
   "source": [
    "##### Image preprocessing"
   ]
  },
  {
   "cell_type": "code",
   "execution_count": 12,
   "metadata": {},
   "outputs": [],
   "source": [
    "# Load the image\n",
    "image_path = 'Berkas Files/images of berkas 500-520 EXAMPLE 2/halaman_1.png'\n",
    "image = cv2.imread(image_path, cv2.IMREAD_GRAYSCALE)\n",
    "\n",
    "# Apply thresholding\n",
    "_, thresh = cv2.threshold(image, 150, 255, cv2.THRESH_BINARY_INV)\n",
    "\n",
    "# Remove noise\n",
    "kernel = np.ones((1, 1), np.uint8)\n",
    "cleaned_image = cv2.morphologyEx(thresh, cv2.MORPH_CLOSE, kernel)\n",
    "\n",
    "# Save the pre-processed image\n",
    "preprocessed_image_path = 'Berkas Files/images of berkas 500-520 EXAMPLE 2/halaman_1_preprocessed.png'\n",
    "cv2.imwrite(preprocessed_image_path, cleaned_image)\n",
    "\n",
    "# Display the pre-processed image\n",
    "Image.open(preprocessed_image_path).show()"
   ]
  },
  {
   "cell_type": "code",
   "execution_count": 13,
   "metadata": {},
   "outputs": [],
   "source": [
    "# Ensure the image is in binary format (single channel, 8-bit)\n",
    "binary_image = cv2.convertScaleAbs(cleaned_image)\n",
    "\n",
    "# Detect tables using contours\n",
    "contours, _ = cv2.findContours(binary_image, cv2.RETR_EXTERNAL, cv2.CHAIN_APPROX_SIMPLE)\n",
    "\n",
    "# Draw contours on the original image\n",
    "image_with_contours = cv2.cvtColor(image, cv2.COLOR_GRAY2BGR)\n",
    "cv2.drawContours(image_with_contours, contours, -1, (0, 255, 0), 2)\n",
    "\n",
    "# Save the image with contours\n",
    "contours_image_path = 'Berkas Files/images of berkas 500-520 EXAMPLE 2/halaman_1_contours.png'\n",
    "cv2.imwrite(contours_image_path, image_with_contours)\n",
    "\n",
    "# Display the image with contours\n",
    "Image.open(contours_image_path).show()"
   ]
  },
  {
   "cell_type": "markdown",
   "metadata": {},
   "source": [
    "## 2. Melakukan OCR pada dokumen yang dipindai"
   ]
  },
  {
   "cell_type": "markdown",
   "metadata": {},
   "source": [
    "## 3. Memproses teks yang diekstrak"
   ]
  },
  {
   "cell_type": "markdown",
   "metadata": {},
   "source": [
    "## 4. Save ke dalam file Excel (file format '.csv')"
   ]
  }
 ],
 "metadata": {
  "kernelspec": {
   "display_name": "Python 3",
   "language": "python",
   "name": "python3"
  },
  "language_info": {
   "codemirror_mode": {
    "name": "ipython",
    "version": 3
   },
   "file_extension": ".py",
   "mimetype": "text/x-python",
   "name": "python",
   "nbconvert_exporter": "python",
   "pygments_lexer": "ipython3",
   "version": "3.12.0"
  }
 },
 "nbformat": 4,
 "nbformat_minor": 2
}
