{
 "cells": [
  {
   "cell_type": "markdown",
   "metadata": {},
   "source": [
    "# Ekstraksi dan Pengolahan Data Kepemilikan Tanah"
   ]
  },
  {
   "cell_type": "markdown",
   "metadata": {},
   "source": [
    "## Proker 1: Strukturisasi Data dan Arsip Digital Dokumen Pemilikan Tanah"
   ]
  },
  {
   "cell_type": "markdown",
   "metadata": {},
   "source": [
    "### 1. Menyiapkan coding environment, termasuk menginstall dan/atau memperbarui library"
   ]
  },
  {
   "cell_type": "code",
   "execution_count": null,
   "metadata": {},
   "outputs": [],
   "source": [
    "# Menginstall library-library\n",
    "%pip install pandas\n",
    "%pip install pytesseract\n",
    "%pip install pdf2image\n",
    "%pip install pillow\n",
    "%pip install numpy\n",
    "%pip install matplotlib\n",
    "%pip install tensorflow\n",
    "%pip install opencv-python"
   ]
  },
  {
   "cell_type": "code",
   "execution_count": 2,
   "metadata": {},
   "outputs": [],
   "source": [
    "# Mengimport library-library untuk digunakan\n",
    "import cv2\n",
    "import numpy as np\n",
    "import os\n",
    "import pandas as pd\n",
    "import pytesseract\n",
    "from pdf2image import convert_from_path\n",
    "from PIL import Image\n",
    "from matplotlib import pyplot as plt\n",
    "import re"
   ]
  },
  {
   "cell_type": "markdown",
   "metadata": {},
   "source": [
    "### 2. Trial and Error halaman 1 dari file 'berkas 500-600.pdf'"
   ]
  },
  {
   "cell_type": "markdown",
   "metadata": {},
   "source": [
    "##### Konversi PDF ke PNG "
   ]
  },
  {
   "cell_type": "code",
   "execution_count": null,
   "metadata": {},
   "outputs": [],
   "source": [
    "# Buat subdirektori untuk menampung gambar di dalam subdirektori \"BERKAS LETTER C\"\n",
    "output_folder = 'file png berkas 500-600'\n",
    "if not os.path.exists(output_folder):\n",
    "    os.makedirs(output_folder)\n",
    "\n",
    "# Konversi PDF ke gambar\n",
    "pdf_path = 'BERKAS LETTER C/berkas 500-600.pdf'\n",
    "images = convert_from_path(pdf_path)\n",
    "\n",
    "# Simpan setiap gambar ke folder output\n",
    "for i, image in enumerate(images):\n",
    "    image_path = os.path.join(output_folder, f'halaman_{i+1}.png')\n",
    "    image.save(image_path, 'PNG')\n",
    "\n",
    "# Menampilkan jalur gambar yang disimpan\n",
    "image_paths = [os.path.join(output_folder, f'halaman_{i+1}.png') for i in range(len(images))]\n",
    "print(\"Gambar disimpan di:\")\n",
    "for path in image_paths:\n",
    "    print(path)"
   ]
  },
  {
   "cell_type": "code",
   "execution_count": 4,
   "metadata": {},
   "outputs": [],
   "source": [
    "# Muat gambar\n",
    "image_path = 'file png berkas 500-600/halaman_1.png'\n",
    "image = cv2.imread(image_path, cv2.IMREAD_COLOR)\n",
    "\n",
    "# Cek jika gambar berhasil dimuat\n",
    "if image is None:\n",
    "    raise ValueError(f\"Gambar tidak dimuat. Periksa apakah path sudah benar: {image_path}\")"
   ]
  },
  {
   "cell_type": "markdown",
   "metadata": {},
   "source": [
    "##### Upaya praproses gambar 1, **gagal**\n",
    "\n",
    "Dicoba menggunakan:\n",
    "\n",
    "- **Tesseract OCR**: Digunakan untuk mengekstrak teks dari gambar.\n",
    "- **Praproses Gambar**:\n",
    "- **Thresholding**: Menerapkan ambang batas adaptif untuk mengubah gambar ke format biner.\n",
    "- **Penghapusan Derau**: Menggunakan operasi morfologi untuk menghilangkan derau dari gambar.\n",
    "- **Deteksi Kontur**: Mendeteksi kontur untuk mengidentifikasi struktur tabel dalam gambar.\n",
    "- **Deteksi Garis Tabel**: Menyorot garis tabel untuk meningkatkan akurasi OCR.\n",
    "\n",
    "Meskipun telah melakukan upaya ini, dihadapi tantangan karena kualitas gambar pindaian dan teks tulisan tangan yang buruk, yang mengakibatkan kemajuan yang berarti terbatas."
   ]
  },
  {
   "cell_type": "code",
   "execution_count": null,
   "metadata": {},
   "outputs": [],
   "source": [
    "# Langkah 1: Terapkan thresholding adaptif dengan garis yang lebih tebal\n",
    "'''\n",
    "gray = cv2.cvtColor(image, cv2.COLOR_BGR2GRAY)  # Konversi ke grayscale\n",
    "adaptive_binary = cv2.adaptiveThreshold(\n",
    "    gray, 255, cv2.ADAPTIVE_THRESH_GAUSSIAN_C, cv2.THRESH_BINARY, 1001, 20\n",
    ")\n",
    "\n",
    "# Simpan output untuk langkah ini\n",
    "step_1_path = os.path.join(output_dir, 'Step 1 - Thickened Adaptive Thresholded Image.png')\n",
    "cv2.imwrite(step_1_path, adaptive_binary)\n",
    "\n",
    "print(f\"Langkah 1 selesai. Citra ambang batas adaptif yang dipertebal disimpan di: {step_1_path}\")\n",
    "'''"
   ]
  },
  {
   "cell_type": "code",
   "execution_count": null,
   "metadata": {},
   "outputs": [],
   "source": [
    "# Langkah 2: Hapus area tangan\n",
    "'''\n",
    "# Sesuaikan kotak pembatas untuk menutupi tangan\n",
    "hand_region = (0, adaptive_binary.shape[0] - 800, 600, 1000)  # x, y, width, height\n",
    "x, y, w, h = hand_region\n",
    "\n",
    "# Tutupi tangan dengan mengecat bagian tersebut dengan warna putih\n",
    "hand_removed = adaptive_binary.copy()\n",
    "cv2.rectangle(hand_removed, (x, y), (x + w, y + h), (255, 255, 255), -1)\n",
    "\n",
    "# Simpan gambar yang sudah dibersihkan\n",
    "step_2_path = os.path.join(output_dir, 'Step 2 - Hand Removed.png')\n",
    "cv2.imwrite(step_2_path, hand_removed)\n",
    "\n",
    "print(f\"Langkah 2 selesai. Gambar yang diambil dengan tangan disimpan di: {step_2_path}\")\n",
    "'''"
   ]
  },
  {
   "cell_type": "code",
   "execution_count": null,
   "metadata": {},
   "outputs": [],
   "source": [
    "# Langkah 3: Sorot garis tabel dengan warna hijau\n",
    "'''\n",
    "try:\n",
    "    # Mendeteksi tepi menggunakan Canny\n",
    "    edges = cv2.Canny(hand_removed, 500, 1500)  # Sesuaikan ambang batas sesuai kebutuhan (ambang_batas rendah, ambang_batas tinggi)\n",
    "\n",
    "    # Lebarkan tepian untuk memperkuat garis\n",
    "    kernel = cv2.getStructuringElement(cv2.MORPH_RECT, (3, 3))  # Sesuaikan ukuran kernel untuk ketebalan garis\n",
    "    dilated_edges = cv2.dilate(edges, kernel, iterations=1)\n",
    "\n",
    "    # Filter tepi yang terdeteksi berdasarkan geometri (garis horizontal/vertikal panjang)\n",
    "    contours, _ = cv2.findContours(dilated_edges, cv2.RETR_EXTERNAL, cv2.CHAIN_APPROX_SIMPLE)\n",
    "    mask = np.zeros_like(edges) # Buat mask kosong\n",
    "    for contour in contours:\n",
    "        x, y, w, h = cv2.boundingRect(contour)\n",
    "        aspect_ratio = max(w, h) / min(w, h) if min(w, h) > 0 else 0\n",
    "        # Keep only long horizontal or vertical lines\n",
    "        if (w > 50 and h < 10) or (h > 50 and w < 10):  # Sesuaikan ambang batas sesuai kebutuhan\n",
    "            cv2.drawContours(mask, [contour], -1, 255, thickness=cv2.FILLED)\n",
    "\n",
    "    # Kombinasikan mask dengan tepian yang melebar\n",
    "    filtered_lines = cv2.bitwise_and(dilated_edges, mask)\n",
    "\n",
    "    # Ubah gambar skala abu-abu menjadi BGR untuk hamparan warna\n",
    "    table_lines_colored = cv2.merge([hand_removed, hand_removed, hand_removed])  # Grayscale ke BGR\n",
    "\n",
    "    # Hamparkan warna hijau pada garis tabel yang terdeteksi\n",
    "    table_lines_colored[filtered_lines > 0] = [0, 255, 0]  # Green (0, 255, 0)\n",
    "\n",
    "    # Simpan gambar yang dihasilkan\n",
    "    step_3_path = os.path.join(output_dir, 'Step 3 - Filtered Green Table Lines.png')\n",
    "    cv2.imwrite(step_3_path, table_lines_colored)\n",
    "\n",
    "    print(f\"Langkah 3 selesai. Gambar garis tabel hijau yang difilter disimpan di: {step_3_path}\")\n",
    "\n",
    "except Exception as e:\n",
    "    print(f\"Terjadi error pada Langkah 3: {e}\")\n",
    "'''"
   ]
  },
  {
   "cell_type": "markdown",
   "metadata": {},
   "source": [
    "##### Upaya praproses gambar 2"
   ]
  },
  {
   "cell_type": "code",
   "execution_count": 8,
   "metadata": {},
   "outputs": [],
   "source": [
    "# Tentukan path input dan folder output\n",
    "image_path = 'file png berkas 500-600/halaman_1.png'\n",
    "output_folder = 'file png berkas 500-600/Preprocessed halaman 1 stuff'\n",
    "if not os.path.exists(output_folder):\n",
    "    os.makedirs(output_folder)"
   ]
  },
  {
   "cell_type": "markdown",
   "metadata": {},
   "source": [
    "Langkah 1: Praproses Gambar"
   ]
  },
  {
   "cell_type": "code",
   "execution_count": null,
   "metadata": {},
   "outputs": [],
   "source": [
    "# Langkah 1.1. Konversi ke grayscale\n",
    "gray_image = cv2.cvtColor(image, cv2.COLOR_BGR2GRAY)\n",
    "\n",
    "# Simpan gambar grayscale\n",
    "output_path = os.path.join(output_folder, 'halaman_1_gray.png')\n",
    "cv2.imwrite(output_path, gray_image)\n",
    "\n",
    "print(f\"Gambar grayscale disimpan di:{output_path}\")"
   ]
  },
  {
   "cell_type": "code",
   "execution_count": null,
   "metadata": {},
   "outputs": [],
   "source": [
    "# Langkah 1.2. Meningkatkan kontras menggunakan CLAHE\n",
    "clahe = cv2.createCLAHE(clipLimit=2.0, tileGridSize=(8, 8))\n",
    "enhanced_image = clahe.apply(gray_image)\n",
    "\n",
    "# Simpan gambar kontras yang ditingkatkan\n",
    "output_path = os.path.join(output_folder, 'halaman_1_contrast.png')\n",
    "cv2.imwrite(output_path, enhanced_image)\n",
    "\n",
    "print(f\"Gambar kontras yang ditingkatkan disimpan di:{output_path}\")"
   ]
  },
  {
   "cell_type": "code",
   "execution_count": null,
   "metadata": {},
   "outputs": [],
   "source": [
    "# Langkah 1.3. Hapus noise menggunakan median blurring\n",
    "denoised_image = cv2.medianBlur(enhanced_image, 5)\n",
    "\n",
    "# Simpan gambar yang sudah dihilangkan noise-nya\n",
    "output_path = os.path.join(output_folder, 'halaman_1_denoised.png')\n",
    "cv2.imwrite(output_path, denoised_image)\n",
    "\n",
    "print(f\"Gambar yang sudah dihilangkan noisenya disimpan di:{output_path}\")"
   ]
  },
  {
   "cell_type": "code",
   "execution_count": null,
   "metadata": {},
   "outputs": [],
   "source": [
    "# Langkah 1.4. Normalisasi dimensi\n",
    "# Tentukan dimensi target\n",
    "target_width, target_height = 1024, 1024\n",
    "\n",
    "# Ubah ukuran gambar sambil mempertahankan rasio aspek\n",
    "h, w = denoised_image.shape\n",
    "scaling_factor = min(target_width / w, target_height / h)\n",
    "new_width = int(w * scaling_factor)\n",
    "new_height = int(h * scaling_factor)\n",
    "\n",
    "# Ubah ukuran gambar\n",
    "resized_image = cv2.resize(denoised_image, (new_width, new_height), interpolation=cv2.INTER_AREA)\n",
    "\n",
    "# Sesuaikan gambar dengan dimensi target\n",
    "delta_w = target_width - new_width\n",
    "delta_h = target_height - new_height\n",
    "top, bottom = delta_h // 2, delta_h - (delta_h // 2)\n",
    "left, right = delta_w // 2, delta_w - (delta_w // 2)\n",
    "normalized_image = cv2.copyMakeBorder(resized_image, top, bottom, left, right, cv2.BORDER_CONSTANT, value=255)\n",
    "\n",
    "# Simpan gambar yang dinormalisasi\n",
    "output_path = os.path.join(output_folder, 'halaman_1_normalized.png')\n",
    "cv2.imwrite(output_path, normalized_image)\n",
    "\n",
    "print(f\"Gambar yang dinormalisasi disimpan di: {output_path}\")"
   ]
  },
  {
   "cell_type": "markdown",
   "metadata": {},
   "source": [
    "Langkah 2: Menghilangkan tabel"
   ]
  },
  {
   "cell_type": "code",
   "execution_count": null,
   "metadata": {},
   "outputs": [],
   "source": [
    "# Langkah 2.1: Mendeteksi Struktur Tabel\n",
    "\n",
    "# Threshold gambar ke biner\n",
    "_, binary = cv2.threshold(normalized_image, 200, 255, cv2.THRESH_BINARY_INV)\n",
    "\n",
    "# Mendeteksi garis horizontal\n",
    "horizontal_kernel = cv2.getStructuringElement(cv2.MORPH_RECT, (50, 1))\n",
    "horizontal_lines = cv2.morphologyEx(binary, cv2.MORPH_OPEN, horizontal_kernel)\n",
    "\n",
    "# Mendeteksi garis vertikal\n",
    "vertical_kernel = cv2.getStructuringElement(cv2.MORPH_RECT, (1, 50))\n",
    "vertical_lines = cv2.morphologyEx(binary, cv2.MORPH_OPEN, vertical_kernel)\n",
    "\n",
    "# Gabungkan garis horizontal dan vertikal\n",
    "table_structure = cv2.add(horizontal_lines, vertical_lines)\n",
    "\n",
    "# Dilate untuk menggabungkan celah pada garis tabel\n",
    "table_structure = cv2.dilate(table_structure, np.ones((3, 3), np.uint8))\n",
    "\n",
    "# Simpan gambar struktur tabel yang dihasilkan\n",
    "output_path = 'BERKAS LETTER C/file png berkas 500-600/Preprocessed halaman 1 stuff/halaman_1_table_structure.png'\n",
    "cv2.imwrite(output_path, table_structure)\n",
    "\n",
    "# Print konfirmasi dan tampilkan output yang disimpan\n",
    "print(f\"Table structure image saved at: {output_path}\")\n"
   ]
  },
  {
   "cell_type": "code",
   "execution_count": null,
   "metadata": {},
   "outputs": [],
   "source": [
    "# Langkah 2.2: Hapus Struktur Tabel untuk Mengekstrak Teks\n",
    "\n",
    "# Normalisasikan struktur tabel ke biner (0 dan 255)\n",
    "_, table_structure_binary = cv2.threshold(table_structure, 127, 255, cv2.THRESH_BINARY)\n",
    "\n",
    "# Buat mask di tempat garis tabel berada\n",
    "table_lines_mask = table_structure_binary\n",
    "\n",
    "# Ganti garis tabel pada gambar yang dinormalisasikan dengan warna putih\n",
    "text_only_image = cv2.add(normalized_image, table_lines_mask)\n",
    "\n",
    "# Simpan gambar yang hanya berupa teks yang dihasilkan\n",
    "output_path = 'BERKAS LETTER C/file png berkas 500-600/Preprocessed halaman 1 stuff/halaman_1_text_only.png'\n",
    "cv2.imwrite(output_path, text_only_image)\n",
    "\n",
    "# Cetak konfirmasi dan simpan output\n",
    "print(f\"Gambar hanya teks disimpan di:{output_path}\")"
   ]
  },
  {
   "cell_type": "markdown",
   "metadata": {},
   "source": [
    "Langkah 3: Melakukan OCR"
   ]
  },
  {
   "cell_type": "code",
   "execution_count": null,
   "metadata": {},
   "outputs": [],
   "source": [
    "# Langkah 3.1: Terapkan OCR untuk Mengekstrak Teks\n",
    "# Tentukan konfigurasi OCR\n",
    "custom_config = r'--psm 13 -c tessedit_char_whitelist=\"0123456789abcdefghijklmnopqrstuvwxyzABCDEFGHIJKLMNOPQRSTUVWXYZ.,() \"'\n",
    "\n",
    "# Terapkan OCR pada gambar teks saja\n",
    "ocr_result = pytesseract.image_to_string(text_only_image, lang='eng', config='custom_config')\n",
    "\n",
    "# Simpan output OCR ke file teks\n",
    "output_path = 'file png berkas 500-600/Preprocessed halaman 1 stuff/halaman_1_ocr_output.txt'\n",
    "with open(output_path, 'w', encoding='utf-8') as f:\n",
    "    f.write(ocr_result)\n",
    "\n",
    "# Print konfirmasi dan hasil OCR\n",
    "print(f\"Hasil OCR disimpan di: {output_path}\")\n",
    "print(\"Output OCR: \")\n",
    "print(ocr_result)"
   ]
  },
  {
   "cell_type": "code",
   "execution_count": null,
   "metadata": {},
   "outputs": [],
   "source": [
    "# Langkah 3.2: Bersihkan hasil OCR\n",
    "cleaned_ocr = re.sub(r'[^a-zA-Z0-9\\s.,]', '', ocr_result)  # Hanya simpan alfanumerik dan tanda baca dasar\n",
    "cleaned_ocr = re.sub(r'\\s+', ' ', cleaned_ocr).strip()  # Hapus spasi ekstra dan rapikan\n",
    "\n",
    "# Simpan output OCR yang telah dibersihkan ke dalam file teks\n",
    "output_path_cleaned = 'file png berkas 500-600/Preprocessed halaman 1 stuff/halaman_1_ocr_cleaned.txt'\n",
    "with open(output_path_cleaned, 'w', encoding='utf-8') as f:\n",
    "    f.write(cleaned_ocr)\n",
    "\n",
    "# Cetak konfirmasi dan output OCR yang telah dibersihkan\n",
    "print(f\"Hasil OCR yang dibersihkan disimpan di: {output_path_cleaned}\")\n",
    "print(\"Output OCR yang dibersihkan:\")\n",
    "print(cleaned_ocr)"
   ]
  },
  {
   "cell_type": "code",
   "execution_count": null,
   "metadata": {},
   "outputs": [],
   "source": [
    "# Langkah 3.3: Simpan Output OCR dengan Penempatan Header yang Tepat\n",
    "\n",
    "# Tentukan ID halaman dan tajuk\n",
    "header = [\"OCR Output\"]\n",
    "page_id = \"page_500\"\n",
    "\n",
    "# Membagi OCR yang telah dibersihkan menjadi kata-kata individual\n",
    "words = [page_id] + cleaned_ocr.split()\n",
    "\n",
    "# Buat DataFrame dengan kata-kata sebagai satu baris\n",
    "df = pd.DataFrame([words])\n",
    "\n",
    "# Perbarui header secara manual\n",
    "df.columns = header + [\"\" for _ in range(len(words) - 1)]\n",
    "\n",
    "# Simpan DataFrame ke CSV\n",
    "csv_output_path = 'file png berkas 500-600/Preprocessed halaman 1 stuff/halaman_1_ocr_paginated_final_header.csv'\n",
    "df.to_csv(csv_output_path, index=False, header=False)\n",
    "\n",
    "# Print konfirmasi dan pratinjau\n",
    "print(f\"Hasil OCR halaman akhir disimpan ke CSV di:{csv_output_path}\")\n",
    "print(\"Pratinjau CSV:\")\n",
    "print(df.head())"
   ]
  },
  {
   "cell_type": "markdown",
   "metadata": {},
   "source": [
    "## Proker 2: Alat Pencarian Dokumen Kepemilikan Tanah"
   ]
  },
  {
   "cell_type": "markdown",
   "metadata": {},
   "source": [
    "### 3. Memproses Semua Halaman dengan Pipeline OCR"
   ]
  },
  {
   "cell_type": "code",
   "execution_count": null,
   "metadata": {},
   "outputs": [],
   "source": [
    "# Langkah 1: Mengonversi PDF ke Gambar dan Mengatur Folder Penyimpanan\n",
    "\n",
    "# Daftar file PDF dan folder keluaran yang sesuai\n",
    "pdf_files = [\n",
    "    ('BERKAS LETTER C/berkas 0-100.pdf', 'file png berkas 0-100'),\n",
    "    ('BERKAS LETTER C/berkas 100-200.pdf', 'file png berkas 100-200'),\n",
    "    ('BERKAS LETTER C/berkas 200-300.pdf', 'file png berkas 200-300'),\n",
    "    ('BERKAS LETTER C/berkas 300-400.pdf', 'file png berkas 300-400'),\n",
    "    ('BERKAS LETTER C/berkas 400-500.pdf', 'file png berkas 400-500'),\n",
    "    ('BERKAS LETTER C/berkas 500-600.pdf', 'file png berkas 500-600'),\n",
    "    ('BERKAS LETTER C/berkas 600-700.pdf', 'file png berkas 600-700'),\n",
    "    ('BERKAS LETTER C/berkas 700-800.pdf', 'file png berkas 700-800'),\n",
    "    ('BERKAS LETTER C/berkas 800-900.pdf', 'file png berkas 800-900'),\n",
    "    ('BERKAS LETTER C/berkas 900-968.pdf', 'file png berkas 900-968'),\n",
    "    ('BERKAS LETTER C/berkas sisa sobekan 400-500.pdf', 'file png berkas sisa sobekan 400-500')\n",
    "]\n",
    "\n",
    "\n",
    "# Proses setiap file PDF\n",
    "for pdf_path, output_folder in pdf_files:\n",
    "    # Pastikan folder output ada\n",
    "    if not os.path.exists(output_folder):\n",
    "        os.makedirs(output_folder)\n",
    "    \n",
    "    print(f\"Mengonversi {pdf_path} ke gambar...\")\n",
    "    \n",
    "    # Konversi PDF ke gambar\n",
    "    images = convert_from_path(pdf_path)\n",
    "    for i, image in enumerate(images):\n",
    "        image_path = os.path.join(output_folder, f'halaman_{i+1}.png')  # Tentukan nama file\n",
    "        image.save(image_path, 'PNG')  # Simpan gambar dalam format PNG\n",
    "        print(f\"Gambar halaman {i+1} dari {pdf_path} disimpan di: {image_path}\")  # Informasi gambar yang disimpan\n",
    "    \n",
    "    print(f\"Konversi {pdf_path} selesai!\")\n",
    "\n",
    "print(\"Semua file PDF selesai diproses!\")"
   ]
  },
  {
   "cell_type": "code",
   "execution_count": 20,
   "metadata": {},
   "outputs": [],
   "source": [
    "# Langkah 2: Membuat pipeline untuk langkah-langkah pra-pemrosesan\n",
    "\n",
    "# Daftar langkah\n",
    "steps = [\n",
    "    \"langkah 1.1 konversi ke grayscale\",\n",
    "    \"langkah 1.2 meningkatkan kontras menggunakan CLAHE\",\n",
    "    \"langkah 1.3 menghapus noise menggunakan median blurring\",\n",
    "    \"langkah 1.4 normalisasi dimensi\",\n",
    "    \"langkah 2.1 mendeteksi struktur tabel\",\n",
    "    \"langkah 2.2 menghapus struktur tabel untuk mengekstraksi teks\",\n",
    "    \"langkah 3.1 menerapkan OCR untuk mengekstrak teks\",\n",
    "    \"langkah 3.2 membersihkan hasil OCR\",\n",
    "    \"langkah 3.3 menyimpan hasil OCR dengan header yang benar\",\n",
    "]\n",
    "\n",
    "# Daftar semua folder file PNG\n",
    "base_folders = [\n",
    "    \"file png berkas 0-100\",\n",
    "    \"file png berkas 100-200\",\n",
    "    \"file png berkas 200-300\",\n",
    "    \"file png berkas 300-400\",\n",
    "    \"file png berkas 400-500\",\n",
    "    \"file png berkas 500-600\",\n",
    "    \"file png berkas 600-700\",\n",
    "    \"file png berkas 700-800\",\n",
    "    \"file png berkas 800-900\",\n",
    "    \"file png berkas 900-968\",\n",
    "    \"file png berkas sisa sobekan 400-500\",\n",
    "]\n",
    "\n",
    "# Fungsi untuk memproses semua folder\n",
    "def process_all_folders(base_folders, steps):\n",
    "    for base_folder in base_folders:\n",
    "        print(f\"Memproses folder: {base_folder}\")\n",
    "\n",
    "        # Buat subfolder untuk setiap langkah di dalam folder dasar\n",
    "        output_folders = {step: os.path.join(base_folder, step) for step in steps}\n",
    "        for folder in output_folders.values():\n",
    "            os.makedirs(folder, exist_ok=True)\n",
    "\n",
    "        # Jalankan proses untuk setiap gambar di folder\n",
    "        process_images(base_folder, output_folders)\n",
    "\n",
    "# Fungsi untuk memproses gambar di satu folder\n",
    "def process_images(base_folder, output_folders):\n",
    "    # Ambil daftar file gambar dari folder\n",
    "    image_files = [f for f in os.listdir(base_folder) if f.endswith(\".png\")]\n",
    "    \n",
    "    for image_file in image_files:\n",
    "        print(f\"Memproses {image_file}...\")\n",
    "        image_path = os.path.join(base_folder, image_file)\n",
    "        image = cv2.imread(image_path)\n",
    "\n",
    "        # Langkah 1.1: Konversi ke grayscale\n",
    "        gray_image = cv2.cvtColor(image, cv2.COLOR_BGR2GRAY)\n",
    "        output_path = os.path.join(output_folders[\"langkah 1.1 konversi ke grayscale\"], image_file)\n",
    "        cv2.imwrite(output_path, gray_image)\n",
    "\n",
    "        # Langkah 1.2: Tingkatkan kontras menggunakan CLAHE\n",
    "        clahe = cv2.createCLAHE(clipLimit=2.0, tileGridSize=(8, 8))\n",
    "        contrast_image = clahe.apply(gray_image)\n",
    "        output_path = os.path.join(output_folders[\"langkah 1.2 meningkatkan kontras menggunakan CLAHE\"], image_file)\n",
    "        cv2.imwrite(output_path, contrast_image)\n",
    "\n",
    "        # Langkah 1.3: Hapus noise menggunakan median blurring\n",
    "        denoised_image = cv2.medianBlur(contrast_image, 5)\n",
    "        output_path = os.path.join(output_folders[\"langkah 1.3 menghapus noise menggunakan median blurring\"], image_file)\n",
    "        cv2.imwrite(output_path, denoised_image)\n",
    "\n",
    "        # Langkah 1.4: Normalisasi dimensi\n",
    "        target_width, target_height = 1024, 1024\n",
    "        h, w = denoised_image.shape\n",
    "        scaling_factor = min(target_width / w, target_height / h)\n",
    "        new_width = int(w * scaling_factor)\n",
    "        new_height = int(h * scaling_factor)\n",
    "        resized_image = cv2.resize(denoised_image, (new_width, new_height), interpolation=cv2.INTER_AREA)\n",
    "        delta_w = target_width - new_width\n",
    "        delta_h = target_height - new_height\n",
    "        top, bottom = delta_h // 2, delta_h - (delta_h // 2)\n",
    "        left, right = delta_w // 2, delta_w - (delta_w // 2)\n",
    "        normalized_image = cv2.copyMakeBorder(resized_image, top, bottom, left, right, cv2.BORDER_CONSTANT, value=255)\n",
    "        output_path = os.path.join(output_folders[\"langkah 1.4 normalisasi dimensi\"], image_file)\n",
    "        cv2.imwrite(output_path, normalized_image)\n",
    "\n",
    "        # Langkah 2.1: Deteksi struktur tabel\n",
    "        _, binary = cv2.threshold(normalized_image, 200, 255, cv2.THRESH_BINARY_INV)\n",
    "        horizontal_kernel = cv2.getStructuringElement(cv2.MORPH_RECT, (50, 1))\n",
    "        horizontal_lines = cv2.morphologyEx(binary, cv2.MORPH_OPEN, horizontal_kernel)\n",
    "        vertical_kernel = cv2.getStructuringElement(cv2.MORPH_RECT, (1, 50))\n",
    "        vertical_lines = cv2.morphologyEx(binary, cv2.MORPH_OPEN, vertical_kernel)\n",
    "        table_structure = cv2.add(horizontal_lines, vertical_lines)\n",
    "        table_structure = cv2.dilate(table_structure, np.ones((3, 3), np.uint8))\n",
    "        output_path = os.path.join(output_folders[\"langkah 2.1 mendeteksi struktur tabel\"], image_file)\n",
    "        cv2.imwrite(output_path, table_structure)\n",
    "\n",
    "        # Langkah 2.2: Hapus struktur tabel untuk mengekstraksi teks\n",
    "        _, table_structure_binary = cv2.threshold(table_structure, 127, 255, cv2.THRESH_BINARY)\n",
    "        table_lines_mask = table_structure_binary\n",
    "        text_only_image = cv2.add(normalized_image, table_lines_mask)\n",
    "        output_path = os.path.join(output_folders[\"langkah 2.2 menghapus struktur tabel untuk mengekstraksi teks\"], image_file)\n",
    "        cv2.imwrite(output_path, text_only_image)\n",
    "\n",
    "        # Langkah 3.1: Terapkan OCR\n",
    "        custom_config = r'--psm 13 -c tessedit_char_whitelist=\"0123456789abcdefghijklmnopqrstuvwxyzABCDEFGHIJKLMNOPQRSTUVWXYZ.,() \"'\n",
    "        ocr_result = pytesseract.image_to_string(text_only_image, lang='eng', config='custom_config')\n",
    "        output_path = os.path.join(output_folders[\"langkah 3.1 menerapkan OCR untuk mengekstrak teks\"], image_file.replace(\".png\", \".txt\"))\n",
    "        with open(output_path, \"w\", encoding=\"utf-8\") as f:\n",
    "            f.write(ocr_result)\n",
    "\n",
    "        # Langkah 3.2: Membersihkan hasil OCR\n",
    "        cleaned_ocr = re.sub(r'[^a-zA-Z0-9\\s.,]', '', ocr_result)\n",
    "        cleaned_ocr = re.sub(r'\\s+', ' ', cleaned_ocr).strip()\n",
    "        output_path = os.path.join(output_folders[\"langkah 3.2 membersihkan hasil OCR\"], image_file.replace(\".png\", \".txt\"))\n",
    "        with open(output_path, \"w\", encoding=\"utf-8\") as f:\n",
    "            f.write(cleaned_ocr)\n",
    "\n",
    "    print(\"Semua langkah selesai untuk folder:\", base_folder)"
   ]
  },
  {
   "cell_type": "code",
   "execution_count": null,
   "metadata": {},
   "outputs": [],
   "source": [
    "# Langkah 3: Jalankan pipeline untuk semua folder\n",
    "# Jalankan pipeline untuk semua folder\n",
    "process_all_folders(base_folders, steps)"
   ]
  },
  {
   "cell_type": "markdown",
   "metadata": {},
   "source": [
    "### 4. Menyimpan ke file CSV"
   ]
  },
  {
   "cell_type": "code",
   "execution_count": null,
   "metadata": {},
   "outputs": [],
   "source": [
    "# Fungsi untuk menyimpan hasil OCR ke CSV\n",
    "def save_ocr_results_to_csv(base_folder, output_folder):\n",
    "    # Pastikan folder output ada\n",
    "    if not os.path.exists(output_folder):\n",
    "        os.makedirs(output_folder)\n",
    "\n",
    "    # Folder yang berisi hasil OCR (langkah 3.2)\n",
    "    ocr_folder = os.path.join(base_folder, \"langkah 3.2 membersihkan hasil OCR\")\n",
    "    ocr_files = [f for f in os.listdir(ocr_folder) if f.endswith(\".txt\")]\n",
    "\n",
    "    # Dataframe untuk menyimpan semua hasil OCR\n",
    "    ocr_data = []\n",
    "\n",
    "    for ocr_file in ocr_files:\n",
    "        file_path = os.path.join(ocr_folder, ocr_file)\n",
    "        with open(file_path, \"r\", encoding=\"utf-8\") as f:\n",
    "            cleaned_text = f.read().strip()\n",
    "\n",
    "        # Simpan data dalam format: Halaman | OCR Output\n",
    "        page_name = ocr_file.replace(\".txt\", \"\")  # Nama file tanpa ekstensi\n",
    "        ocr_data.append({\"Page\": page_name, \"OCR Output\": cleaned_text})\n",
    "\n",
    "    # Konversi ke DataFrame dan simpan ke CSV\n",
    "    ocr_df = pd.DataFrame(ocr_data)\n",
    "    csv_output_path = os.path.join(output_folder, f\"{base_folder.replace('file png ', '')}_OCR_results.csv\")\n",
    "    ocr_df.to_csv(csv_output_path, index=False, encoding=\"utf-8\")\n",
    "\n",
    "    print(f\"Hasil OCR disimpan di: {csv_output_path}\")\n",
    "\n",
    "# Daftar folder utama dan jalankan proses untuk masing-masing\n",
    "for base_folder in base_folders:\n",
    "    print(f\"Menyimpan hasil OCR untuk folder: {base_folder}\")\n",
    "    save_ocr_results_to_csv(\n",
    "        base_folder=base_folder,\n",
    "        output_folder=os.path.join(base_folder, \"langkah 3.3 menyimpan hasil OCR dengan header yang benar\")\n",
    "    )"
   ]
  }
 ],
 "metadata": {
  "kernelspec": {
   "display_name": "Python 3",
   "language": "python",
   "name": "python3"
  },
  "language_info": {
   "codemirror_mode": {
    "name": "ipython",
    "version": 3
   },
   "file_extension": ".py",
   "mimetype": "text/x-python",
   "name": "python",
   "nbconvert_exporter": "python",
   "pygments_lexer": "ipython3",
   "version": "3.12.0"
  }
 },
 "nbformat": 4,
 "nbformat_minor": 2
}
