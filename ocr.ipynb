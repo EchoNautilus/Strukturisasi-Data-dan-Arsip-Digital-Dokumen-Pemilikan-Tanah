{
 "cells": [
  {
   "cell_type": "markdown",
   "metadata": {},
   "source": [
    "# Ekstraksi dan Pengolahan Data Kepemilikan Tanah"
   ]
  },
  {
   "cell_type": "markdown",
   "metadata": {},
   "source": [
    "## 1. Menyiapkan coding environment, termasuk menginstall dan/atau memperbarui library"
   ]
  },
  {
   "cell_type": "code",
   "execution_count": 1,
   "metadata": {},
   "outputs": [
    {
     "name": "stdout",
     "output_type": "stream",
     "text": [
      "Defaulting to user installation because normal site-packages is not writeable\n",
      "Requirement already satisfied: pandas in c:\\users\\emirp\\appdata\\roaming\\python\\python313\\site-packages (2.2.3)\n",
      "Requirement already satisfied: numpy>=1.26.0 in c:\\users\\emirp\\appdata\\roaming\\python\\python313\\site-packages (from pandas) (2.2.1)\n",
      "Requirement already satisfied: python-dateutil>=2.8.2 in c:\\users\\emirp\\appdata\\roaming\\python\\python313\\site-packages (from pandas) (2.9.0.post0)\n",
      "Requirement already satisfied: pytz>=2020.1 in c:\\users\\emirp\\appdata\\roaming\\python\\python313\\site-packages (from pandas) (2024.2)\n",
      "Requirement already satisfied: tzdata>=2022.7 in c:\\users\\emirp\\appdata\\roaming\\python\\python313\\site-packages (from pandas) (2024.2)\n",
      "Requirement already satisfied: six>=1.5 in c:\\users\\emirp\\appdata\\roaming\\python\\python313\\site-packages (from python-dateutil>=2.8.2->pandas) (1.17.0)\n",
      "Defaulting to user installation because normal site-packages is not writeable\n",
      "Requirement already satisfied: pytesseract in c:\\users\\emirp\\appdata\\roaming\\python\\python313\\site-packages (0.3.13)\n",
      "Requirement already satisfied: packaging>=21.3 in c:\\users\\emirp\\appdata\\roaming\\python\\python313\\site-packages (from pytesseract) (24.2)\n",
      "Requirement already satisfied: Pillow>=8.0.0 in c:\\users\\emirp\\appdata\\roaming\\python\\python313\\site-packages (from pytesseract) (11.1.0)\n",
      "Defaulting to user installation because normal site-packages is not writeable\n",
      "Requirement already satisfied: pdf2image in c:\\users\\emirp\\appdata\\roaming\\python\\python313\\site-packages (1.17.0)\n",
      "Requirement already satisfied: pillow in c:\\users\\emirp\\appdata\\roaming\\python\\python313\\site-packages (from pdf2image) (11.1.0)\n",
      "Defaulting to user installation because normal site-packages is not writeable\n",
      "Requirement already satisfied: pillow in c:\\users\\emirp\\appdata\\roaming\\python\\python313\\site-packages (11.1.0)\n",
      "Defaulting to user installation because normal site-packages is not writeable\n",
      "Requirement already satisfied: numpy in c:\\users\\emirp\\appdata\\roaming\\python\\python313\\site-packages (2.2.1)\n",
      "Defaulting to user installation because normal site-packages is not writeable\n",
      "Requirement already satisfied: matplotlib in c:\\users\\emirp\\appdata\\roaming\\python\\python313\\site-packages (3.10.0)\n",
      "Requirement already satisfied: contourpy>=1.0.1 in c:\\users\\emirp\\appdata\\roaming\\python\\python313\\site-packages (from matplotlib) (1.3.1)\n",
      "Requirement already satisfied: cycler>=0.10 in c:\\users\\emirp\\appdata\\roaming\\python\\python313\\site-packages (from matplotlib) (0.12.1)\n",
      "Requirement already satisfied: fonttools>=4.22.0 in c:\\users\\emirp\\appdata\\roaming\\python\\python313\\site-packages (from matplotlib) (4.55.3)\n",
      "Requirement already satisfied: kiwisolver>=1.3.1 in c:\\users\\emirp\\appdata\\roaming\\python\\python313\\site-packages (from matplotlib) (1.4.8)\n",
      "Requirement already satisfied: numpy>=1.23 in c:\\users\\emirp\\appdata\\roaming\\python\\python313\\site-packages (from matplotlib) (2.2.1)\n",
      "Requirement already satisfied: packaging>=20.0 in c:\\users\\emirp\\appdata\\roaming\\python\\python313\\site-packages (from matplotlib) (24.2)\n",
      "Requirement already satisfied: pillow>=8 in c:\\users\\emirp\\appdata\\roaming\\python\\python313\\site-packages (from matplotlib) (11.1.0)\n",
      "Requirement already satisfied: pyparsing>=2.3.1 in c:\\users\\emirp\\appdata\\roaming\\python\\python313\\site-packages (from matplotlib) (3.2.1)\n",
      "Requirement already satisfied: python-dateutil>=2.7 in c:\\users\\emirp\\appdata\\roaming\\python\\python313\\site-packages (from matplotlib) (2.9.0.post0)\n",
      "Requirement already satisfied: six>=1.5 in c:\\users\\emirp\\appdata\\roaming\\python\\python313\\site-packages (from python-dateutil>=2.7->matplotlib) (1.17.0)\n"
     ]
    }
   ],
   "source": [
    "# Menginstall library-library\n",
    "!pip install pandas\n",
    "!pip install pytesseract\n",
    "!pip install pdf2image\n",
    "!pip install pillow\n",
    "!pip install numpy\n",
    "!pip install matplotlib\n",
    "\n",
    "# Mengimport library-library untuk digunakan\n",
    "import cv2\n",
    "import numpy as np\n",
    "import os\n",
    "import pandas as pd\n",
    "import pytesseract\n",
    "from pdf2image import convert_from_path\n",
    "from PIL import Image\n",
    "from matplotlib import pyplot as plt"
   ]
  },
  {
   "cell_type": "code",
   "execution_count": 2,
   "metadata": {},
   "outputs": [],
   "source": [
    "# Loading the preprocessed template CSV file\n",
    "template = pd.read_csv('DATA C-DESA NOBOREJO preprocessed.csv')"
   ]
  },
  {
   "cell_type": "markdown",
   "metadata": {},
   "source": [
    "#### !!! TESTING \"berkas 500-520 EXAMPLE 2.pdf !!!"
   ]
  },
  {
   "cell_type": "markdown",
   "metadata": {},
   "source": [
    "##### PDF to PNG conversion"
   ]
  },
  {
   "cell_type": "code",
   "execution_count": 3,
   "metadata": {},
   "outputs": [],
   "source": [
    "# Initialize a new empty dataframe with the same columns as the template\n",
    "df = pd.DataFrame(columns=template.columns)\n",
    "df.head()\n",
    "\n",
    "# Save CSV to the output directory\n",
    "output_dir = 'Berkas Files/images of berkas 500-520 EXAMPLE 2'\n",
    "output_file = 'output.csv'\n",
    "df.to_csv(os.path.join(output_dir, output_file), index=False)"
   ]
  },
  {
   "cell_type": "code",
   "execution_count": 4,
   "metadata": {},
   "outputs": [
    {
     "name": "stdout",
     "output_type": "stream",
     "text": [
      "Images saved at:\n",
      "Berkas Files/images of berkas 500-520 EXAMPLE 2\\halaman_1.png\n",
      "Berkas Files/images of berkas 500-520 EXAMPLE 2\\halaman_2.png\n",
      "Berkas Files/images of berkas 500-520 EXAMPLE 2\\halaman_3.png\n",
      "Berkas Files/images of berkas 500-520 EXAMPLE 2\\halaman_4.png\n",
      "Berkas Files/images of berkas 500-520 EXAMPLE 2\\halaman_5.png\n",
      "Berkas Files/images of berkas 500-520 EXAMPLE 2\\halaman_6.png\n",
      "Berkas Files/images of berkas 500-520 EXAMPLE 2\\halaman_7.png\n",
      "Berkas Files/images of berkas 500-520 EXAMPLE 2\\halaman_8.png\n",
      "Berkas Files/images of berkas 500-520 EXAMPLE 2\\halaman_9.png\n",
      "Berkas Files/images of berkas 500-520 EXAMPLE 2\\halaman_10.png\n",
      "Berkas Files/images of berkas 500-520 EXAMPLE 2\\halaman_11.png\n",
      "Berkas Files/images of berkas 500-520 EXAMPLE 2\\halaman_12.png\n",
      "Berkas Files/images of berkas 500-520 EXAMPLE 2\\halaman_13.png\n",
      "Berkas Files/images of berkas 500-520 EXAMPLE 2\\halaman_14.png\n",
      "Berkas Files/images of berkas 500-520 EXAMPLE 2\\halaman_15.png\n",
      "Berkas Files/images of berkas 500-520 EXAMPLE 2\\halaman_16.png\n",
      "Berkas Files/images of berkas 500-520 EXAMPLE 2\\halaman_17.png\n",
      "Berkas Files/images of berkas 500-520 EXAMPLE 2\\halaman_18.png\n",
      "Berkas Files/images of berkas 500-520 EXAMPLE 2\\halaman_19.png\n",
      "Berkas Files/images of berkas 500-520 EXAMPLE 2\\halaman_20.png\n"
     ]
    }
   ],
   "source": [
    "# Create subdirectory to hold images inside the Berkas Files subdirectory\n",
    "output_folder = 'Berkas Files/images of berkas 500-520 EXAMPLE 2'\n",
    "if not os.path.exists(output_folder):\n",
    "    os.makedirs(output_folder)\n",
    "\n",
    "# Convert PDF to images\n",
    "pdf_path = 'Berkas Files/berkas 500-520 EXAMPLE 2.pdf'\n",
    "images = convert_from_path(pdf_path)\n",
    "\n",
    "# Save each image to the output folder\n",
    "for i, image in enumerate(images):\n",
    "    image_path = os.path.join(output_folder, f'halaman_{i+1}.png')\n",
    "    image.save(image_path, 'PNG')\n",
    "\n",
    "# Display the paths of the saved images\n",
    "image_paths = [os.path.join(output_folder, f'halaman_{i+1}.png') for i in range(len(images))]\n",
    "print(\"Images saved at:\")\n",
    "for path in image_paths:\n",
    "    print(path)"
   ]
  },
  {
   "cell_type": "markdown",
   "metadata": {},
   "source": [
    "##### Image preprocessing"
   ]
  },
  {
   "cell_type": "code",
   "execution_count": 5,
   "metadata": {},
   "outputs": [],
   "source": [
    "# Load the image\n",
    "image_path = 'Berkas Files/images of berkas 500-520 EXAMPLE 2/halaman_1.png'\n",
    "\n",
    "# Read the image using OpenCV\n",
    "image = cv2.imread(image_path, cv2.IMREAD_COLOR)\n",
    "\n",
    "# Create output subdirectory\n",
    "output_dir = 'Berkas Files/images of berkas 500-520 EXAMPLE 2/Preprocessed halaman 1 stuff'\n",
    "if not os.path.exists(output_dir):\n",
    "    os.makedirs(output_dir)"
   ]
  },
  {
   "cell_type": "code",
   "execution_count": 6,
   "metadata": {},
   "outputs": [
    {
     "name": "stdout",
     "output_type": "stream",
     "text": [
      "Step 1 completed. Thresholded image saved at: Berkas Files/images of berkas 500-520 EXAMPLE 2/Preprocessed halaman 1 stuff\\Step 1 - Thresholded Image.png\n"
     ]
    }
   ],
   "source": [
    "# Step 1: Apply thresholding - to separate the text from the background\n",
    "gray = cv2.cvtColor(image, cv2.COLOR_BGR2GRAY)  # Convert to grayscale (just in case)\n",
    "_, binary = cv2.threshold(gray, 150, 255, cv2.THRESH_BINARY)\n",
    "\n",
    "# Save the output for this step\n",
    "step_1_path = os.path.join(output_dir, 'Step 1 - Thresholded Image.png')\n",
    "cv2.imwrite(step_1_path, binary)\n",
    "\n",
    "print(f\"Step 1 completed. Thresholded image saved at: {step_1_path}\")"
   ]
  },
  {
   "cell_type": "code",
   "execution_count": 7,
   "metadata": {},
   "outputs": [],
   "source": [
    "# # Step 2: Noise removal using Median Blur - to be used only if the image is noisy\n",
    "# denoised = cv2.medianBlur(binary, 3)\n",
    "\n",
    "# Save the output for this step\n",
    "# step_2_path = os.path.join(output_dir, 'Step 2 - Denoised Image.png')\n",
    "# cv2.imwrite(step_2_path, denoised)\n",
    "\n",
    "# print(f\"Step 2 completed. Denoised image saved at: {step_2_path}\")\n",
    "\n",
    "# SKIPPING THIS STEP FOR BETTER QUALITY SCANNED IMAGES"
   ]
  },
  {
   "cell_type": "code",
   "execution_count": 9,
   "metadata": {},
   "outputs": [
    {
     "name": "stdout",
     "output_type": "stream",
     "text": [
      "Step 3 completed. Table detection image saved at: Berkas Files/images of berkas 500-520 EXAMPLE 2/Preprocessed halaman 1 stuff\\Step 3 - Table Detection.png\n"
     ]
    }
   ],
   "source": [
    "# Step 3: Table Detection using Contours\n",
    "try:\n",
    "    # Define kernel for morphological operations\n",
    "    kernel = cv2.getStructuringElement(cv2.MORPH_RECT, (2, 2))\n",
    "\n",
    "    # Detect edges using Canny\n",
    "    edges = cv2.Canny(binary, 50, 150, apertureSize=3)\n",
    "\n",
    "    # Dilate edges to strengthen table lines\n",
    "    dilated = cv2.dilate(edges, kernel, iterations=2)\n",
    "\n",
    "    # Find contours\n",
    "    contours, _ = cv2.findContours(dilated, cv2.RETR_EXTERNAL, cv2.CHAIN_APPROX_SIMPLE)\n",
    "\n",
    "    # Draw bounding boxes around detected table regions\n",
    "    table_detected = binary.copy()\n",
    "    for c in contours:\n",
    "        x, y, w, h = cv2.boundingRect(c)\n",
    "        # Filter based on size (adjust thresholds as needed)\n",
    "        if w > 50 and h > 20:  # Minimum width and height\n",
    "            cv2.rectangle(table_detected, (x, y), (x + w, y + h), (0, 255, 0), 2)\n",
    "\n",
    "    # Save the output for table detection\n",
    "    step_3_path = os.path.join(output_dir, 'Step 3 - Table Detection.png')\n",
    "    cv2.imwrite(step_3_path, table_detected)\n",
    "\n",
    "    print(f\"Step 3 completed. Table detection image saved at: {step_3_path}\")\n",
    "except Exception as e:\n",
    "    print(f\"An error occurred during table detection: {e}\")"
   ]
  },
  {
   "cell_type": "markdown",
   "metadata": {},
   "source": [
    "## 3. Memproses teks yang diekstrak"
   ]
  },
  {
   "cell_type": "markdown",
   "metadata": {},
   "source": [
    "## 4. Save ke dalam file Excel (file format '.csv')"
   ]
  }
 ],
 "metadata": {
  "kernelspec": {
   "display_name": "Python 3",
   "language": "python",
   "name": "python3"
  },
  "language_info": {
   "codemirror_mode": {
    "name": "ipython",
    "version": 3
   },
   "file_extension": ".py",
   "mimetype": "text/x-python",
   "name": "python",
   "nbconvert_exporter": "python",
   "pygments_lexer": "ipython3",
   "version": "3.12.0"
  }
 },
 "nbformat": 4,
 "nbformat_minor": 2
}
